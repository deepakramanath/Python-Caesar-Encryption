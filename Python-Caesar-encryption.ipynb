{
 "cells": [
  {
   "cell_type": "markdown",
   "metadata": {},
   "source": [
    "# Introduction"
   ]
  },
  {
   "cell_type": "markdown",
   "metadata": {},
   "source": [
    "In this program, we look at creating Caesar encryption for letters and numbers. A Caesar shift of 3 is used in this program. What this means is, for example, if we provide character \"C\", the encrypter character would be \"A\". Similarly, for \"F\", the encrypted character would be \"C\". More information about this simple encryption technique is [provided in this link](https://en.wikipedia.org/wiki/Caesar_cipher)"
   ]
  },
  {
   "cell_type": "code",
   "execution_count": 1,
   "metadata": {
    "collapsed": true
   },
   "outputs": [],
   "source": [
    "import string\n",
    "from sys import argv, exit"
   ]
  },
  {
   "cell_type": "markdown",
   "metadata": {},
   "source": [
    "Here, we import the module `string`. The `string` module has a number of constants and classes which can be used to obtain the required ASCII characters. In this case, we require lower and upper case English characters to compare the user provided string and subsequently get the index of the alphabets. For example, the index of \"A\" woulld be `0`, likewise, \"B\" and \"C\" would be `1` and `2` respectively."
   ]
  },
  {
   "cell_type": "code",
   "execution_count": 2,
   "metadata": {
    "collapsed": true
   },
   "outputs": [],
   "source": [
    "baseAlphabetsLower = string.ascii_lowercase\n",
    "baseAlphabetsUpper = string.ascii_uppercase\n",
    "baseNumbers = range(0, 10)\n",
    "finalString = []"
   ]
  },
  {
   "cell_type": "markdown",
   "metadata": {},
   "source": [
    " We store the upper case and lower case string constants in the two variables, `baseAlphabetsLower` and `baseAlphabetsUpper` respectively. For numbers, we use the `range` function to get a list from `0` to `9`."
   ]
  },
  {
   "cell_type": "code",
   "execution_count": 3,
   "metadata": {
    "collapsed": false
   },
   "outputs": [
    {
     "name": "stdout",
     "output_type": "stream",
     "text": [
      "Enter your alphanumeric characters: The quick brown Fox jumps over the lazy Dog\n"
     ]
    }
   ],
   "source": [
    "userString =  raw_input(\"Enter your alphanumeric characters: \")"
   ]
  },
  {
   "cell_type": "markdown",
   "metadata": {},
   "source": [
    "The above line is self-explanatory where in the user input is stored in `userString` variable"
   ]
  },
  {
   "cell_type": "code",
   "execution_count": 4,
   "metadata": {
    "collapsed": true
   },
   "outputs": [],
   "source": [
    "for char in userString:\n",
    "    if char == \" \":\n",
    "        finalString.append(char)\n",
    "    else:\n",
    "        if char in baseAlphabetsLower:\n",
    "            charIndexLower = baseAlphabetsLower.index(char)\n",
    "            finalString.append(baseAlphabetsLower[charIndexLower - 3])\n",
    "        elif char in baseAlphabetsUpper:\n",
    "            charIndexUpper = baseAlphabetsUpper.index(char)\n",
    "            finalString.append(baseAlphabetsUpper[charIndexUpper - 3])\n",
    "        else:\n",
    "            numIndex = baseNumbers.index(int(char))\n",
    "            finalString.append(str(baseNumbers[numIndex - 3]))"
   ]
  },
  {
   "cell_type": "markdown",
   "metadata": {},
   "source": [
    "The lines shown above is where the left shift of 3 happens to every character and number the user provides. We first iterate through the characters and based on upper/lower case or number, `if` `else` statements are used to divert these apply the Caesar shift of 3 towards the left. The shifted characters are then appended to a `finalString` variable."
   ]
  },
  {
   "cell_type": "code",
   "execution_count": 5,
   "metadata": {
    "collapsed": false
   },
   "outputs": [
    {
     "name": "stdout",
     "output_type": "stream",
     "text": [
      "Your encrypted characters:  Qeb nrfzh yoltk Clu grjmp lsbo qeb ixwv Ald\n"
     ]
    }
   ],
   "source": [
    "encryptedString = \"\".join(finalString)\n",
    "print \"Your encrypted characters: \", encryptedString"
   ]
  },
  {
   "cell_type": "markdown",
   "metadata": {},
   "source": [
    "Finally, we join the `finalString` list to get the encrypted characters. Note this works for with and without space in the string provided by the user. We can verify the result from the [wiki link here](https://en.wikipedia.org/wiki/Caesar_cipher)"
   ]
  }
 ],
 "metadata": {
  "anaconda-cloud": {},
  "kernelspec": {
   "display_name": "Python [default]",
   "language": "python",
   "name": "python2"
  },
  "language_info": {
   "codemirror_mode": {
    "name": "ipython",
    "version": 2
   },
   "file_extension": ".py",
   "mimetype": "text/x-python",
   "name": "python",
   "nbconvert_exporter": "python",
   "pygments_lexer": "ipython2",
   "version": "2.7.12"
  }
 },
 "nbformat": 4,
 "nbformat_minor": 1
}
